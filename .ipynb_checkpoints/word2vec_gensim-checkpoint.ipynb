{
 "cells": [
  {
   "cell_type": "code",
   "execution_count": null,
   "id": "0731d529-3481-47a7-a11d-d54ea1d71ef6",
   "metadata": {},
   "outputs": [],
   "source": [
    "#词向量\n",
    "import pandas as pd\n",
    "import jieba\n",
    "from gensim.models.word2vec import Word2Vec\n",
    "\n",
    "# 读入训练集文件\n",
    "data = pd.read_csv('train.csv')\n",
    "# 转字符串数组\n",
    "corpus = data['comment'].values.astype(str)\n",
    "# 分词，再重组为字符串数组\n",
    "corpus = [jieba.lcut(corpus[index]\n",
    "                          .replace(\"，\", \"\")\n",
    "                          .replace(\"!\", \"\")\n",
    "                          .replace(\"！\", \"\")\n",
    "                          .replace(\"。\", \"\")\n",
    "                          .replace(\"~\", \"\")\n",
    "                          .replace(\"；\", \"\")\n",
    "                          .replace(\"？\", \"\")\n",
    "                          .replace(\"?\", \"\")\n",
    "                          .replace(\"【\", \"\")\n",
    "                          .replace(\"】\", \"\")\n",
    "                          .replace(\"#\", \"\")\n",
    "                        ) for index in range(len(corpus))]\n",
    "# 词向量模型训练\n",
    "model = Word2Vec(corpus, sg=0, vector_size=300, window=5, min_count=3, workers=4)\n",
    "#模型显示\n",
    "print('模型参数：',model,'\\n')\n",
    "#最匹配\n",
    "print('最匹配的词是：',model.wv.most_similar(positive=['点赞', '不错'], negative=['难吃']),'\\n')\n",
    "#最不匹配\n",
    "#print('最不匹配的词是：',model.wv.doesnt_match(\"点赞 好吃 支持 难吃\".split()),'\\n')\n",
    "#语义相似度\n",
    "print('相似度为=',model.wv.similarity('推荐','好吃'),'\\n')\n",
    "#坐标返回\n",
    "print(model.wv.__getitem__('地道'))"
   ]
  }
 ],
 "metadata": {
  "kernelspec": {
   "display_name": "Python 3 (ipykernel)",
   "language": "python",
   "name": "python3"
  },
  "language_info": {
   "codemirror_mode": {
    "name": "ipython",
    "version": 3
   },
   "file_extension": ".py",
   "mimetype": "text/x-python",
   "name": "python",
   "nbconvert_exporter": "python",
   "pygments_lexer": "ipython3",
   "version": "3.9.21"
  }
 },
 "nbformat": 4,
 "nbformat_minor": 5
}
